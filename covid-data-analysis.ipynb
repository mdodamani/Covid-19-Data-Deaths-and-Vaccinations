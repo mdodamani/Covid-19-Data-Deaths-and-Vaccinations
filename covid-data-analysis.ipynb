{
 "cells": [
  {
   "cell_type": "code",
   "execution_count": 32,
   "metadata": {
    "_cell_guid": "b1076dfc-b9ad-4769-8c92-a6c4dae69d19",
    "_uuid": "8f2839f25d086af736a60e9eeb907d3b93b6e0e5",
    "execution": {
     "iopub.execute_input": "2022-05-09T11:16:32.166382Z",
     "iopub.status.busy": "2022-05-09T11:16:32.165873Z",
     "iopub.status.idle": "2022-05-09T11:16:32.207173Z",
     "shell.execute_reply": "2022-05-09T11:16:32.206305Z",
     "shell.execute_reply.started": "2022-05-09T11:16:32.166292Z"
    }
   },
   "outputs": [],
   "source": [
    "import numpy as np # linear algebra\n",
    "import pandas as pd # data processing, CSV file I/O (e.g. pd.read_csv)\n",
    "import os\n",
    "import matplotlib.pyplot as plt\n",
    "import seaborn as sns"
   ]
  },
  {
   "cell_type": "code",
   "execution_count": 33,
   "metadata": {
    "execution": {
     "iopub.execute_input": "2022-05-09T11:16:53.030790Z",
     "iopub.status.busy": "2022-05-09T11:16:53.030491Z",
     "iopub.status.idle": "2022-05-09T11:16:54.611116Z",
     "shell.execute_reply": "2022-05-09T11:16:54.610147Z",
     "shell.execute_reply.started": "2022-05-09T11:16:53.030759Z"
    }
   },
   "outputs": [],
   "source": [
    "covid = pd.read_csv(r'C:\\Users\\Admin\\Desktop\\Projects_\\Covid-19 Data Deaths and Vaccinations/covid_data_cleaned.csv')"
   ]
  },
  {
   "cell_type": "code",
   "execution_count": 34,
   "metadata": {
    "execution": {
     "iopub.execute_input": "2022-05-09T11:16:54.612869Z",
     "iopub.status.busy": "2022-05-09T11:16:54.612439Z",
     "iopub.status.idle": "2022-05-09T11:16:54.642062Z",
     "shell.execute_reply": "2022-05-09T11:16:54.641118Z",
     "shell.execute_reply.started": "2022-05-09T11:16:54.612841Z"
    }
   },
   "outputs": [
    {
     "data": {
      "text/html": [
       "<div>\n",
       "<style scoped>\n",
       "    .dataframe tbody tr th:only-of-type {\n",
       "        vertical-align: middle;\n",
       "    }\n",
       "\n",
       "    .dataframe tbody tr th {\n",
       "        vertical-align: top;\n",
       "    }\n",
       "\n",
       "    .dataframe thead th {\n",
       "        text-align: right;\n",
       "    }\n",
       "</style>\n",
       "<table border=\"1\" class=\"dataframe\">\n",
       "  <thead>\n",
       "    <tr style=\"text-align: right;\">\n",
       "      <th></th>\n",
       "      <th>iso_code</th>\n",
       "      <th>continent</th>\n",
       "      <th>location</th>\n",
       "      <th>date</th>\n",
       "      <th>total_cases</th>\n",
       "      <th>new_cases</th>\n",
       "      <th>total_deaths</th>\n",
       "      <th>new_deaths</th>\n",
       "      <th>total_vaccinations</th>\n",
       "      <th>people_vaccinated</th>\n",
       "      <th>people_fully_vaccinated</th>\n",
       "      <th>total_boosters</th>\n",
       "      <th>new_vaccinations</th>\n",
       "    </tr>\n",
       "  </thead>\n",
       "  <tbody>\n",
       "    <tr>\n",
       "      <th>0</th>\n",
       "      <td>AFG</td>\n",
       "      <td>Asia</td>\n",
       "      <td>Afghanistan</td>\n",
       "      <td>24/02/20</td>\n",
       "      <td>5.0</td>\n",
       "      <td>5.0</td>\n",
       "      <td>NaN</td>\n",
       "      <td>NaN</td>\n",
       "      <td>NaN</td>\n",
       "      <td>NaN</td>\n",
       "      <td>NaN</td>\n",
       "      <td>NaN</td>\n",
       "      <td>NaN</td>\n",
       "    </tr>\n",
       "    <tr>\n",
       "      <th>1</th>\n",
       "      <td>AFG</td>\n",
       "      <td>Asia</td>\n",
       "      <td>Afghanistan</td>\n",
       "      <td>25/02/20</td>\n",
       "      <td>5.0</td>\n",
       "      <td>0.0</td>\n",
       "      <td>NaN</td>\n",
       "      <td>NaN</td>\n",
       "      <td>NaN</td>\n",
       "      <td>NaN</td>\n",
       "      <td>NaN</td>\n",
       "      <td>NaN</td>\n",
       "      <td>NaN</td>\n",
       "    </tr>\n",
       "    <tr>\n",
       "      <th>2</th>\n",
       "      <td>AFG</td>\n",
       "      <td>Asia</td>\n",
       "      <td>Afghanistan</td>\n",
       "      <td>26/02/20</td>\n",
       "      <td>5.0</td>\n",
       "      <td>0.0</td>\n",
       "      <td>NaN</td>\n",
       "      <td>NaN</td>\n",
       "      <td>NaN</td>\n",
       "      <td>NaN</td>\n",
       "      <td>NaN</td>\n",
       "      <td>NaN</td>\n",
       "      <td>NaN</td>\n",
       "    </tr>\n",
       "    <tr>\n",
       "      <th>3</th>\n",
       "      <td>AFG</td>\n",
       "      <td>Asia</td>\n",
       "      <td>Afghanistan</td>\n",
       "      <td>27/02/20</td>\n",
       "      <td>5.0</td>\n",
       "      <td>0.0</td>\n",
       "      <td>NaN</td>\n",
       "      <td>NaN</td>\n",
       "      <td>NaN</td>\n",
       "      <td>NaN</td>\n",
       "      <td>NaN</td>\n",
       "      <td>NaN</td>\n",
       "      <td>NaN</td>\n",
       "    </tr>\n",
       "    <tr>\n",
       "      <th>4</th>\n",
       "      <td>AFG</td>\n",
       "      <td>Asia</td>\n",
       "      <td>Afghanistan</td>\n",
       "      <td>28/02/20</td>\n",
       "      <td>5.0</td>\n",
       "      <td>0.0</td>\n",
       "      <td>NaN</td>\n",
       "      <td>NaN</td>\n",
       "      <td>NaN</td>\n",
       "      <td>NaN</td>\n",
       "      <td>NaN</td>\n",
       "      <td>NaN</td>\n",
       "      <td>NaN</td>\n",
       "    </tr>\n",
       "  </tbody>\n",
       "</table>\n",
       "</div>"
      ],
      "text/plain": [
       "  iso_code continent     location      date  total_cases  new_cases  \\\n",
       "0      AFG      Asia  Afghanistan  24/02/20          5.0        5.0   \n",
       "1      AFG      Asia  Afghanistan  25/02/20          5.0        0.0   \n",
       "2      AFG      Asia  Afghanistan  26/02/20          5.0        0.0   \n",
       "3      AFG      Asia  Afghanistan  27/02/20          5.0        0.0   \n",
       "4      AFG      Asia  Afghanistan  28/02/20          5.0        0.0   \n",
       "\n",
       "   total_deaths  new_deaths  total_vaccinations  people_vaccinated  \\\n",
       "0           NaN         NaN                 NaN                NaN   \n",
       "1           NaN         NaN                 NaN                NaN   \n",
       "2           NaN         NaN                 NaN                NaN   \n",
       "3           NaN         NaN                 NaN                NaN   \n",
       "4           NaN         NaN                 NaN                NaN   \n",
       "\n",
       "   people_fully_vaccinated  total_boosters  new_vaccinations  \n",
       "0                      NaN             NaN               NaN  \n",
       "1                      NaN             NaN               NaN  \n",
       "2                      NaN             NaN               NaN  \n",
       "3                      NaN             NaN               NaN  \n",
       "4                      NaN             NaN               NaN  "
      ]
     },
     "execution_count": 34,
     "metadata": {},
     "output_type": "execute_result"
    }
   ],
   "source": [
    "covid.head()"
   ]
  },
  {
   "cell_type": "markdown",
   "metadata": {},
   "source": [
    "# Preliminary Observations on the dataset\n",
    "total_cases - Total cases reported as on date  \n",
    "new_cases - New cases reported on the date  \n",
    "total_deaths - Total Deaths reported as on date  \n",
    "new_deaths - New Deaths reported on the date  \n",
    "total_vaccinations - Total Vaccinations provided as on date  \n",
    "\n",
    "Formula used to calculate the total_vaccination is  \n",
    "\n",
    "total_vaccinations = (people_fully_vaccinated*2) + (people_vaccinated - people_fully_vaccinated) + total_boosters  \n",
    "\n",
    "Example (country - India / date - 03/05/2022)-  \n",
    "1893322786 = (861965139 * 2) + (1004092762 - 861965139) + 27264885  \n",
    "\n",
    "people_vaccinated - Count of people vaccinated as on date. This includes all those people who have received single as well as double doses of vaccine.  \n",
    "people_fully_vaccinated - Count of people vaccinated as on date. This includes only those people who have received double doses of vaccine.  \n",
    "total_boosters - Booster Doses given  \n",
    "new_vaccinations - Vaccine given on the date"
   ]
  },
  {
   "cell_type": "code",
   "execution_count": 35,
   "metadata": {
    "execution": {
     "iopub.execute_input": "2022-05-09T11:16:54.873501Z",
     "iopub.status.busy": "2022-05-09T11:16:54.873205Z",
     "iopub.status.idle": "2022-05-09T11:16:54.881607Z",
     "shell.execute_reply": "2022-05-09T11:16:54.880612Z",
     "shell.execute_reply.started": "2022-05-09T11:16:54.873464Z"
    }
   },
   "outputs": [
    {
     "data": {
      "text/plain": [
       "iso_code                    object\n",
       "continent                   object\n",
       "location                    object\n",
       "date                        object\n",
       "total_cases                float64\n",
       "new_cases                  float64\n",
       "total_deaths               float64\n",
       "new_deaths                 float64\n",
       "total_vaccinations         float64\n",
       "people_vaccinated          float64\n",
       "people_fully_vaccinated    float64\n",
       "total_boosters             float64\n",
       "new_vaccinations           float64\n",
       "dtype: object"
      ]
     },
     "execution_count": 35,
     "metadata": {},
     "output_type": "execute_result"
    }
   ],
   "source": [
    "covid.dtypes\n",
    "\n",
    "#date column to be converted into date datatype"
   ]
  },
  {
   "cell_type": "code",
   "execution_count": 36,
   "metadata": {
    "execution": {
     "iopub.execute_input": "2022-05-09T11:16:55.499142Z",
     "iopub.status.busy": "2022-05-09T11:16:55.498856Z",
     "iopub.status.idle": "2022-05-09T11:16:55.505129Z",
     "shell.execute_reply": "2022-05-09T11:16:55.504312Z",
     "shell.execute_reply.started": "2022-05-09T11:16:55.499111Z"
    }
   },
   "outputs": [
    {
     "data": {
      "text/plain": [
       "(183583, 13)"
      ]
     },
     "execution_count": 36,
     "metadata": {},
     "output_type": "execute_result"
    }
   ],
   "source": [
    "covid.shape"
   ]
  },
  {
   "cell_type": "markdown",
   "metadata": {},
   "source": [
    "# Convert date column datatype"
   ]
  },
  {
   "cell_type": "code",
   "execution_count": 37,
   "metadata": {
    "execution": {
     "iopub.execute_input": "2022-05-09T11:16:57.071513Z",
     "iopub.status.busy": "2022-05-09T11:16:57.071220Z",
     "iopub.status.idle": "2022-05-09T11:17:10.414159Z",
     "shell.execute_reply": "2022-05-09T11:17:10.413561Z",
     "shell.execute_reply.started": "2022-05-09T11:16:57.071482Z"
    }
   },
   "outputs": [
    {
     "data": {
      "text/plain": [
       "iso_code                           object\n",
       "continent                          object\n",
       "location                           object\n",
       "date                               object\n",
       "total_cases                       float64\n",
       "new_cases                         float64\n",
       "total_deaths                      float64\n",
       "new_deaths                        float64\n",
       "total_vaccinations                float64\n",
       "people_vaccinated                 float64\n",
       "people_fully_vaccinated           float64\n",
       "total_boosters                    float64\n",
       "new_vaccinations                  float64\n",
       "date_converted             datetime64[ns]\n",
       "dtype: object"
      ]
     },
     "execution_count": 37,
     "metadata": {},
     "output_type": "execute_result"
    }
   ],
   "source": [
    "covid['date_converted'] = pd.to_datetime(covid['date'], dayfirst=True)\n",
    "covid.dtypes"
   ]
  },
  {
   "cell_type": "markdown",
   "metadata": {},
   "source": [
    "# NULL Value Data Analysis"
   ]
  },
  {
   "cell_type": "code",
   "execution_count": 38,
   "metadata": {
    "execution": {
     "iopub.execute_input": "2022-05-09T11:17:10.416144Z",
     "iopub.status.busy": "2022-05-09T11:17:10.415389Z",
     "iopub.status.idle": "2022-05-09T11:17:10.506030Z",
     "shell.execute_reply": "2022-05-09T11:17:10.505145Z",
     "shell.execute_reply.started": "2022-05-09T11:17:10.416106Z"
    }
   },
   "outputs": [
    {
     "data": {
      "text/plain": [
       "iso_code                        0\n",
       "continent                   10723\n",
       "location                        0\n",
       "date                            0\n",
       "total_cases                  6838\n",
       "new_cases                    7051\n",
       "total_deaths                25116\n",
       "new_deaths                  25119\n",
       "total_vaccinations         133572\n",
       "people_vaccinated          136019\n",
       "people_fully_vaccinated    138517\n",
       "total_boosters             161152\n",
       "new_vaccinations           142523\n",
       "date_converted                  0\n",
       "dtype: int64"
      ]
     },
     "execution_count": 38,
     "metadata": {},
     "output_type": "execute_result"
    }
   ],
   "source": [
    "covid.isna().sum()"
   ]
  },
  {
   "cell_type": "code",
   "execution_count": 39,
   "metadata": {
    "execution": {
     "iopub.execute_input": "2022-05-09T11:17:22.838003Z",
     "iopub.status.busy": "2022-05-09T11:17:22.837726Z",
     "iopub.status.idle": "2022-05-09T11:17:22.894219Z",
     "shell.execute_reply": "2022-05-09T11:17:22.893580Z",
     "shell.execute_reply.started": "2022-05-09T11:17:22.837975Z"
    }
   },
   "outputs": [
    {
     "data": {
      "text/html": [
       "<div>\n",
       "<style scoped>\n",
       "    .dataframe tbody tr th:only-of-type {\n",
       "        vertical-align: middle;\n",
       "    }\n",
       "\n",
       "    .dataframe tbody tr th {\n",
       "        vertical-align: top;\n",
       "    }\n",
       "\n",
       "    .dataframe thead th {\n",
       "        text-align: right;\n",
       "    }\n",
       "</style>\n",
       "<table border=\"1\" class=\"dataframe\">\n",
       "  <thead>\n",
       "    <tr style=\"text-align: right;\">\n",
       "      <th></th>\n",
       "      <th>iso_code</th>\n",
       "      <th>continent</th>\n",
       "      <th>location</th>\n",
       "      <th>date</th>\n",
       "      <th>total_cases</th>\n",
       "      <th>new_cases</th>\n",
       "      <th>total_deaths</th>\n",
       "      <th>new_deaths</th>\n",
       "      <th>total_vaccinations</th>\n",
       "      <th>people_vaccinated</th>\n",
       "      <th>people_fully_vaccinated</th>\n",
       "      <th>total_boosters</th>\n",
       "      <th>new_vaccinations</th>\n",
       "      <th>date_converted</th>\n",
       "    </tr>\n",
       "  </thead>\n",
       "  <tbody>\n",
       "    <tr>\n",
       "      <th>800</th>\n",
       "      <td>OWID_AFR</td>\n",
       "      <td>NaN</td>\n",
       "      <td>Africa</td>\n",
       "      <td>13/02/20</td>\n",
       "      <td>NaN</td>\n",
       "      <td>0.0</td>\n",
       "      <td>NaN</td>\n",
       "      <td>0.0</td>\n",
       "      <td>NaN</td>\n",
       "      <td>NaN</td>\n",
       "      <td>NaN</td>\n",
       "      <td>NaN</td>\n",
       "      <td>NaN</td>\n",
       "      <td>2020-02-13</td>\n",
       "    </tr>\n",
       "    <tr>\n",
       "      <th>801</th>\n",
       "      <td>OWID_AFR</td>\n",
       "      <td>NaN</td>\n",
       "      <td>Africa</td>\n",
       "      <td>14/02/20</td>\n",
       "      <td>1.0</td>\n",
       "      <td>1.0</td>\n",
       "      <td>NaN</td>\n",
       "      <td>0.0</td>\n",
       "      <td>NaN</td>\n",
       "      <td>NaN</td>\n",
       "      <td>NaN</td>\n",
       "      <td>NaN</td>\n",
       "      <td>NaN</td>\n",
       "      <td>2020-02-14</td>\n",
       "    </tr>\n",
       "    <tr>\n",
       "      <th>802</th>\n",
       "      <td>OWID_AFR</td>\n",
       "      <td>NaN</td>\n",
       "      <td>Africa</td>\n",
       "      <td>15/02/20</td>\n",
       "      <td>1.0</td>\n",
       "      <td>0.0</td>\n",
       "      <td>NaN</td>\n",
       "      <td>0.0</td>\n",
       "      <td>NaN</td>\n",
       "      <td>NaN</td>\n",
       "      <td>NaN</td>\n",
       "      <td>NaN</td>\n",
       "      <td>NaN</td>\n",
       "      <td>2020-02-15</td>\n",
       "    </tr>\n",
       "    <tr>\n",
       "      <th>803</th>\n",
       "      <td>OWID_AFR</td>\n",
       "      <td>NaN</td>\n",
       "      <td>Africa</td>\n",
       "      <td>16/02/20</td>\n",
       "      <td>1.0</td>\n",
       "      <td>0.0</td>\n",
       "      <td>NaN</td>\n",
       "      <td>0.0</td>\n",
       "      <td>NaN</td>\n",
       "      <td>NaN</td>\n",
       "      <td>NaN</td>\n",
       "      <td>NaN</td>\n",
       "      <td>NaN</td>\n",
       "      <td>2020-02-16</td>\n",
       "    </tr>\n",
       "    <tr>\n",
       "      <th>804</th>\n",
       "      <td>OWID_AFR</td>\n",
       "      <td>NaN</td>\n",
       "      <td>Africa</td>\n",
       "      <td>17/02/20</td>\n",
       "      <td>1.0</td>\n",
       "      <td>0.0</td>\n",
       "      <td>NaN</td>\n",
       "      <td>0.0</td>\n",
       "      <td>NaN</td>\n",
       "      <td>NaN</td>\n",
       "      <td>NaN</td>\n",
       "      <td>NaN</td>\n",
       "      <td>NaN</td>\n",
       "      <td>2020-02-17</td>\n",
       "    </tr>\n",
       "    <tr>\n",
       "      <th>...</th>\n",
       "      <td>...</td>\n",
       "      <td>...</td>\n",
       "      <td>...</td>\n",
       "      <td>...</td>\n",
       "      <td>...</td>\n",
       "      <td>...</td>\n",
       "      <td>...</td>\n",
       "      <td>...</td>\n",
       "      <td>...</td>\n",
       "      <td>...</td>\n",
       "      <td>...</td>\n",
       "      <td>...</td>\n",
       "      <td>...</td>\n",
       "      <td>...</td>\n",
       "    </tr>\n",
       "    <tr>\n",
       "      <th>181272</th>\n",
       "      <td>OWID_WRL</td>\n",
       "      <td>NaN</td>\n",
       "      <td>World</td>\n",
       "      <td>29/04/22</td>\n",
       "      <td>513146113.0</td>\n",
       "      <td>672698.0</td>\n",
       "      <td>6234308.0</td>\n",
       "      <td>2741.0</td>\n",
       "      <td>1.159138e+10</td>\n",
       "      <td>5.145990e+09</td>\n",
       "      <td>4.659818e+09</td>\n",
       "      <td>1.868386e+09</td>\n",
       "      <td>14822284.0</td>\n",
       "      <td>2022-04-29</td>\n",
       "    </tr>\n",
       "    <tr>\n",
       "      <th>181273</th>\n",
       "      <td>OWID_WRL</td>\n",
       "      <td>NaN</td>\n",
       "      <td>World</td>\n",
       "      <td>30/04/22</td>\n",
       "      <td>513541157.0</td>\n",
       "      <td>395044.0</td>\n",
       "      <td>6235644.0</td>\n",
       "      <td>1336.0</td>\n",
       "      <td>1.159691e+10</td>\n",
       "      <td>5.147077e+09</td>\n",
       "      <td>4.661731e+09</td>\n",
       "      <td>1.869359e+09</td>\n",
       "      <td>11112970.0</td>\n",
       "      <td>2022-04-30</td>\n",
       "    </tr>\n",
       "    <tr>\n",
       "      <th>181274</th>\n",
       "      <td>OWID_WRL</td>\n",
       "      <td>NaN</td>\n",
       "      <td>World</td>\n",
       "      <td>01/05/22</td>\n",
       "      <td>513865225.0</td>\n",
       "      <td>326740.0</td>\n",
       "      <td>6236553.0</td>\n",
       "      <td>915.0</td>\n",
       "      <td>1.161384e+10</td>\n",
       "      <td>5.150471e+09</td>\n",
       "      <td>4.665441e+09</td>\n",
       "      <td>1.871913e+09</td>\n",
       "      <td>10533471.0</td>\n",
       "      <td>2022-05-01</td>\n",
       "    </tr>\n",
       "    <tr>\n",
       "      <th>181275</th>\n",
       "      <td>OWID_WRL</td>\n",
       "      <td>NaN</td>\n",
       "      <td>World</td>\n",
       "      <td>02/05/22</td>\n",
       "      <td>514269025.0</td>\n",
       "      <td>463242.0</td>\n",
       "      <td>6238328.0</td>\n",
       "      <td>1783.0</td>\n",
       "      <td>1.162082e+10</td>\n",
       "      <td>5.150866e+09</td>\n",
       "      <td>4.666603e+09</td>\n",
       "      <td>1.876169e+09</td>\n",
       "      <td>9557989.0</td>\n",
       "      <td>2022-05-02</td>\n",
       "    </tr>\n",
       "    <tr>\n",
       "      <th>181276</th>\n",
       "      <td>OWID_WRL</td>\n",
       "      <td>NaN</td>\n",
       "      <td>World</td>\n",
       "      <td>03/05/22</td>\n",
       "      <td>514975396.0</td>\n",
       "      <td>709771.0</td>\n",
       "      <td>6240940.0</td>\n",
       "      <td>2628.0</td>\n",
       "      <td>1.162462e+10</td>\n",
       "      <td>5.151278e+09</td>\n",
       "      <td>4.668004e+09</td>\n",
       "      <td>1.877161e+09</td>\n",
       "      <td>10242128.0</td>\n",
       "      <td>2022-05-03</td>\n",
       "    </tr>\n",
       "  </tbody>\n",
       "</table>\n",
       "<p>10723 rows × 14 columns</p>\n",
       "</div>"
      ],
      "text/plain": [
       "        iso_code continent location      date  total_cases  new_cases  \\\n",
       "800     OWID_AFR       NaN   Africa  13/02/20          NaN        0.0   \n",
       "801     OWID_AFR       NaN   Africa  14/02/20          1.0        1.0   \n",
       "802     OWID_AFR       NaN   Africa  15/02/20          1.0        0.0   \n",
       "803     OWID_AFR       NaN   Africa  16/02/20          1.0        0.0   \n",
       "804     OWID_AFR       NaN   Africa  17/02/20          1.0        0.0   \n",
       "...          ...       ...      ...       ...          ...        ...   \n",
       "181272  OWID_WRL       NaN    World  29/04/22  513146113.0   672698.0   \n",
       "181273  OWID_WRL       NaN    World  30/04/22  513541157.0   395044.0   \n",
       "181274  OWID_WRL       NaN    World  01/05/22  513865225.0   326740.0   \n",
       "181275  OWID_WRL       NaN    World  02/05/22  514269025.0   463242.0   \n",
       "181276  OWID_WRL       NaN    World  03/05/22  514975396.0   709771.0   \n",
       "\n",
       "        total_deaths  new_deaths  total_vaccinations  people_vaccinated  \\\n",
       "800              NaN         0.0                 NaN                NaN   \n",
       "801              NaN         0.0                 NaN                NaN   \n",
       "802              NaN         0.0                 NaN                NaN   \n",
       "803              NaN         0.0                 NaN                NaN   \n",
       "804              NaN         0.0                 NaN                NaN   \n",
       "...              ...         ...                 ...                ...   \n",
       "181272     6234308.0      2741.0        1.159138e+10       5.145990e+09   \n",
       "181273     6235644.0      1336.0        1.159691e+10       5.147077e+09   \n",
       "181274     6236553.0       915.0        1.161384e+10       5.150471e+09   \n",
       "181275     6238328.0      1783.0        1.162082e+10       5.150866e+09   \n",
       "181276     6240940.0      2628.0        1.162462e+10       5.151278e+09   \n",
       "\n",
       "        people_fully_vaccinated  total_boosters  new_vaccinations  \\\n",
       "800                         NaN             NaN               NaN   \n",
       "801                         NaN             NaN               NaN   \n",
       "802                         NaN             NaN               NaN   \n",
       "803                         NaN             NaN               NaN   \n",
       "804                         NaN             NaN               NaN   \n",
       "...                         ...             ...               ...   \n",
       "181272             4.659818e+09    1.868386e+09        14822284.0   \n",
       "181273             4.661731e+09    1.869359e+09        11112970.0   \n",
       "181274             4.665441e+09    1.871913e+09        10533471.0   \n",
       "181275             4.666603e+09    1.876169e+09         9557989.0   \n",
       "181276             4.668004e+09    1.877161e+09        10242128.0   \n",
       "\n",
       "       date_converted  \n",
       "800        2020-02-13  \n",
       "801        2020-02-14  \n",
       "802        2020-02-15  \n",
       "803        2020-02-16  \n",
       "804        2020-02-17  \n",
       "...               ...  \n",
       "181272     2022-04-29  \n",
       "181273     2022-04-30  \n",
       "181274     2022-05-01  \n",
       "181275     2022-05-02  \n",
       "181276     2022-05-03  \n",
       "\n",
       "[10723 rows x 14 columns]"
      ]
     },
     "execution_count": 39,
     "metadata": {},
     "output_type": "execute_result"
    }
   ],
   "source": [
    "covid[covid['continent'].isna()]"
   ]
  },
  {
   "cell_type": "code",
   "execution_count": 40,
   "metadata": {
    "execution": {
     "iopub.execute_input": "2022-05-09T11:17:28.562996Z",
     "iopub.status.busy": "2022-05-09T11:17:28.562559Z",
     "iopub.status.idle": "2022-05-09T11:17:28.568164Z",
     "shell.execute_reply": "2022-05-09T11:17:28.567259Z",
     "shell.execute_reply.started": "2022-05-09T11:17:28.562956Z"
    }
   },
   "outputs": [
    {
     "name": "stdout",
     "output_type": "stream",
     "text": [
      "0.05840954772500722\n"
     ]
    }
   ],
   "source": [
    "# Since these cases contribute to ~5% of the dataset, we can remove these cases and can continue with the analysis.\n",
    "\n",
    "print(10723/183583)"
   ]
  },
  {
   "cell_type": "code",
   "execution_count": 41,
   "metadata": {
    "execution": {
     "iopub.execute_input": "2022-05-09T11:17:31.094616Z",
     "iopub.status.busy": "2022-05-09T11:17:31.093096Z",
     "iopub.status.idle": "2022-05-09T11:17:31.229432Z",
     "shell.execute_reply": "2022-05-09T11:17:31.228668Z",
     "shell.execute_reply.started": "2022-05-09T11:17:31.094562Z"
    }
   },
   "outputs": [],
   "source": [
    "# Removed entries where iso_code contains owid\n",
    "covid = covid[covid['iso_code'].str.contains('OWID') == False]"
   ]
  },
  {
   "cell_type": "code",
   "execution_count": 42,
   "metadata": {
    "execution": {
     "iopub.execute_input": "2022-05-09T11:17:35.568356Z",
     "iopub.status.busy": "2022-05-09T11:17:35.567889Z",
     "iopub.status.idle": "2022-05-09T11:17:35.654131Z",
     "shell.execute_reply": "2022-05-09T11:17:35.653302Z",
     "shell.execute_reply.started": "2022-05-09T11:17:35.568315Z"
    }
   },
   "outputs": [
    {
     "data": {
      "text/plain": [
       "iso_code                        0\n",
       "continent                       0\n",
       "location                        0\n",
       "date                            0\n",
       "total_cases                  6514\n",
       "new_cases                    6734\n",
       "total_deaths                24577\n",
       "new_deaths                  24780\n",
       "total_vaccinations         127979\n",
       "people_vaccinated          130404\n",
       "people_fully_vaccinated    132730\n",
       "total_boosters             154247\n",
       "new_vaccinations           136863\n",
       "date_converted                  0\n",
       "dtype: int64"
      ]
     },
     "execution_count": 42,
     "metadata": {},
     "output_type": "execute_result"
    }
   ],
   "source": [
    "covid.isna().sum()"
   ]
  },
  {
   "cell_type": "markdown",
   "metadata": {},
   "source": [
    "India started its vaccination on 16 January 2021.  \n",
    "First vaccination started on 08 December 2020 (approx date).  \n",
    "https://www.bbc.com/news/uk-55227325"
   ]
  },
  {
   "cell_type": "code",
   "execution_count": 43,
   "metadata": {
    "execution": {
     "iopub.execute_input": "2022-05-09T11:17:45.215543Z",
     "iopub.status.busy": "2022-05-09T11:17:45.215250Z",
     "iopub.status.idle": "2022-05-09T11:17:45.261044Z",
     "shell.execute_reply": "2022-05-09T11:17:45.260173Z",
     "shell.execute_reply.started": "2022-05-09T11:17:45.215509Z"
    }
   },
   "outputs": [
    {
     "name": "stdout",
     "output_type": "stream",
     "text": [
      "65.0 %\n"
     ]
    }
   ],
   "source": [
    "print(round((covid[covid['date'] < '2021-01-01'].shape[0]/covid.shape[0]), 2)*100, '%')"
   ]
  },
  {
   "cell_type": "markdown",
   "metadata": {},
   "source": [
    "37% of the data is of year 2020 when vaccine was not available, hence details for these rows will be blank.   \n",
    "For remaning 63% dataset, vaccine was not immediately available for maximum countries and hence the values are blank.  \n",
    "\n",
    "Hence it is safe to infer that there are very few entries in the dataset where vaccination details are not available and hence we can go ahead with blank vaccination details"
   ]
  },
  {
   "cell_type": "code",
   "execution_count": 44,
   "metadata": {
    "execution": {
     "iopub.execute_input": "2022-05-09T11:17:51.431038Z",
     "iopub.status.busy": "2022-05-09T11:17:51.430206Z",
     "iopub.status.idle": "2022-05-09T11:17:51.444591Z",
     "shell.execute_reply": "2022-05-09T11:17:51.443685Z",
     "shell.execute_reply.started": "2022-05-09T11:17:51.430995Z"
    }
   },
   "outputs": [
    {
     "data": {
      "text/plain": [
       "iso_code                      0\n",
       "continent                     0\n",
       "location                      0\n",
       "date                          0\n",
       "total_cases                6514\n",
       "new_cases                  6514\n",
       "total_deaths               6513\n",
       "new_deaths                 6513\n",
       "total_vaccinations         6223\n",
       "people_vaccinated          6320\n",
       "people_fully_vaccinated    6338\n",
       "total_boosters             6463\n",
       "new_vaccinations           6483\n",
       "date_converted                0\n",
       "dtype: int64"
      ]
     },
     "execution_count": 44,
     "metadata": {},
     "output_type": "execute_result"
    }
   ],
   "source": [
    "covid[covid['total_cases'].isna()].isna().sum()"
   ]
  },
  {
   "cell_type": "markdown",
   "metadata": {},
   "source": [
    "Wherever total_cases are blank, other details like vaccination and death details are also blank.  \n",
    "Hence, we can remove these entries from the dataset."
   ]
  },
  {
   "cell_type": "code",
   "execution_count": 45,
   "metadata": {
    "execution": {
     "iopub.execute_input": "2022-05-09T11:17:57.277970Z",
     "iopub.status.busy": "2022-05-09T11:17:57.277434Z",
     "iopub.status.idle": "2022-05-09T11:17:57.385371Z",
     "shell.execute_reply": "2022-05-09T11:17:57.384445Z",
     "shell.execute_reply.started": "2022-05-09T11:17:57.277936Z"
    }
   },
   "outputs": [
    {
     "data": {
      "text/plain": [
       "iso_code                        0\n",
       "continent                       0\n",
       "location                        0\n",
       "date                            0\n",
       "total_cases                     0\n",
       "new_cases                     220\n",
       "total_deaths                18064\n",
       "new_deaths                  18267\n",
       "total_vaccinations         121756\n",
       "people_vaccinated          124084\n",
       "people_fully_vaccinated    126392\n",
       "total_boosters             147784\n",
       "new_vaccinations           130380\n",
       "date_converted                  0\n",
       "dtype: int64"
      ]
     },
     "execution_count": 45,
     "metadata": {},
     "output_type": "execute_result"
    }
   ],
   "source": [
    "covid.dropna(how='any', subset=['total_cases'], axis=0, inplace=True)\n",
    "covid.isna().sum()"
   ]
  },
  {
   "cell_type": "markdown",
   "metadata": {},
   "source": [
    "Based on sample check, it is observed that New cases are blank for those cases where there were no new cases were reported for the day. Hence for these entries, we can replace the null value with 0 value."
   ]
  },
  {
   "cell_type": "code",
   "execution_count": 46,
   "metadata": {
    "execution": {
     "iopub.execute_input": "2022-05-09T11:18:03.686484Z",
     "iopub.status.busy": "2022-05-09T11:18:03.686187Z",
     "iopub.status.idle": "2022-05-09T11:18:03.770586Z",
     "shell.execute_reply": "2022-05-09T11:18:03.769749Z",
     "shell.execute_reply.started": "2022-05-09T11:18:03.686453Z"
    }
   },
   "outputs": [
    {
     "data": {
      "text/plain": [
       "iso_code                        0\n",
       "continent                       0\n",
       "location                        0\n",
       "date                            0\n",
       "total_cases                     0\n",
       "new_cases                       0\n",
       "total_deaths                18064\n",
       "new_deaths                  18267\n",
       "total_vaccinations         121756\n",
       "people_vaccinated          124084\n",
       "people_fully_vaccinated    126392\n",
       "total_boosters             147784\n",
       "new_vaccinations           130380\n",
       "date_converted                  0\n",
       "dtype: int64"
      ]
     },
     "execution_count": 46,
     "metadata": {},
     "output_type": "execute_result"
    }
   ],
   "source": [
    "covid['new_cases'].fillna(value=0, axis = 0, inplace = True)\n",
    "covid.isna().sum()"
   ]
  },
  {
   "cell_type": "markdown",
   "metadata": {},
   "source": [
    "With the given dataset, we cannot conculde anything on the blank death values, hence we have taken assumption for the analysis purpose that there were no deaths on that particular day, and hence details are not available.  \n",
    "\n",
    "So now this is our final cleaned dataset and we can use this dataset for further analysis"
   ]
  },
  {
   "cell_type": "markdown",
   "metadata": {},
   "source": [
    "# Top Countries with maximum number fo cases Reported"
   ]
  },
  {
   "cell_type": "markdown",
   "metadata": {},
   "source": [
    "The data provided is as on 03-05-2022.\n",
    "\n",
    "Now to identify which countries got maximum covid cases, deaths due to covid and covid vaccination received as on date, we will only consider the date as 03-05-2022 and will consider only those columns which provide as on date details."
   ]
  },
  {
   "cell_type": "code",
   "execution_count": 47,
   "metadata": {
    "execution": {
     "iopub.execute_input": "2022-05-09T11:18:11.318216Z",
     "iopub.status.busy": "2022-05-09T11:18:11.317923Z",
     "iopub.status.idle": "2022-05-09T11:18:11.359421Z",
     "shell.execute_reply": "2022-05-09T11:18:11.358690Z",
     "shell.execute_reply.started": "2022-05-09T11:18:11.318185Z"
    }
   },
   "outputs": [],
   "source": [
    "# We will create a copy of the existing dataset\n",
    "covid_total_val = covid.copy()\n",
    "\n",
    "# Now we will drop the unnecesary fields from the dataset \n",
    "covid_total_val.drop(axis = 1, labels = ['new_cases', 'new_deaths', 'new_vaccinations'], inplace = True)\n",
    "\n",
    "# Now we will select only those rows where date is 03-05-2022\n",
    "covid_total_val = covid_total_val[covid_total_val['date_converted'] == '2022-05-03']\n",
    "\n",
    "# And we will set our location as index\n",
    "covid_total_val.set_index('location', inplace=True)\n"
   ]
  },
  {
   "cell_type": "code",
   "execution_count": 48,
   "metadata": {
    "execution": {
     "iopub.execute_input": "2022-05-09T11:18:14.179559Z",
     "iopub.status.busy": "2022-05-09T11:18:14.178997Z",
     "iopub.status.idle": "2022-05-09T11:18:14.184766Z",
     "shell.execute_reply": "2022-05-09T11:18:14.183981Z",
     "shell.execute_reply.started": "2022-05-09T11:18:14.179519Z"
    }
   },
   "outputs": [],
   "source": [
    "# Since we are only presenting the top countries - will restrict the datset to 15\n",
    "reported_cases = covid_total_val['total_cases'].sort_values(ascending = False)\n",
    "reported_cases = reported_cases[:15]"
   ]
  },
  {
   "cell_type": "code",
   "execution_count": 49,
   "metadata": {
    "execution": {
     "iopub.execute_input": "2022-05-09T11:18:14.431297Z",
     "iopub.status.busy": "2022-05-09T11:18:14.430290Z",
     "iopub.status.idle": "2022-05-09T11:18:14.442124Z",
     "shell.execute_reply": "2022-05-09T11:18:14.441312Z",
     "shell.execute_reply.started": "2022-05-09T11:18:14.431257Z"
    }
   },
   "outputs": [
    {
     "data": {
      "text/plain": [
       "location\n",
       "United States     81.5\n",
       "India             43.1\n",
       "Brazil            30.5\n",
       "France            28.8\n",
       "Germany           25.0\n",
       "United Kingdom    22.1\n",
       "Russia            17.9\n",
       "South Korea       17.4\n",
       "Italy             16.6\n",
       "Turkey            15.0\n",
       "Spain             12.0\n",
       "Vietnam           10.7\n",
       "Argentina          9.1\n",
       "Netherlands        8.1\n",
       "Japan              7.9\n",
       "Name: total_cases, dtype: float64"
      ]
     },
     "execution_count": 49,
     "metadata": {},
     "output_type": "execute_result"
    }
   ],
   "source": [
    "# We will convert the numbers to Million\n",
    "reported_cases = reported_cases.apply(lambda x: round(x/1000000, 1))\n",
    "\n",
    "reported_cases"
   ]
  },
  {
   "cell_type": "code",
   "execution_count": 50,
   "metadata": {
    "execution": {
     "iopub.execute_input": "2022-05-09T11:18:17.938974Z",
     "iopub.status.busy": "2022-05-09T11:18:17.938198Z",
     "iopub.status.idle": "2022-05-09T11:18:18.301543Z",
     "shell.execute_reply": "2022-05-09T11:18:18.300746Z",
     "shell.execute_reply.started": "2022-05-09T11:18:17.938934Z"
    }
   },
   "outputs": [
    {
     "data": {
      "image/png": "[encoded data removed]",
      "text/plain": [
       "<Figure size 1188x576 with 1 Axes>"
      ]
     },
     "metadata": {
      "needs_background": "light"
     },
     "output_type": "display_data"
    }
   ],
   "source": [
    "report_color = ['#ebd4d3' for _ in range(len(reported_cases))]\n",
    "\n",
    "report_color[0] = '#b20710'\n",
    "report_color[1] = '#b20710'\n",
    "report_color[2] = '#b20710'\n",
    "report_color[3] = '#b20710'\n",
    "report_color[4] = '#b20710'\n",
    "\n",
    "fig, ax = plt.subplots(1, 1, figsize = (16.5, 8))\n",
    "ax.bar_label(ax.barh(reported_cases.index, reported_cases.values, label=reported_cases.values, color = report_color))\n",
    "ax.invert_yaxis()\n",
    "\n",
    "for i in ['top', 'left', 'right']:\n",
    "    ax.spines[i].set_visible(False)\n",
    "\n",
    "fig.text(0.25, 0.90,'Highest reported Covid cases - Countrywise (in Million) - as on 03/05/2022', fontdict={'fontsize':15})\n",
    "\n",
    "ax.grid(axis = 'x', linestyle='-', alpha=0.5)\n",
    "\n",
    "plt.show()"
   ]
  },
  {
   "cell_type": "markdown",
   "metadata": {},
   "source": [
    "# Countries with maximum death reportes due to covid"
   ]
  },
  {
   "cell_type": "markdown",
   "metadata": {},
   "source": [
    "Now we will do the same analysis for Death cases - "
   ]
  },
  {
   "cell_type": "code",
   "execution_count": 51,
   "metadata": {
    "execution": {
     "iopub.execute_input": "2022-05-09T11:18:30.719584Z",
     "iopub.status.busy": "2022-05-09T11:18:30.719275Z",
     "iopub.status.idle": "2022-05-09T11:18:30.730388Z",
     "shell.execute_reply": "2022-05-09T11:18:30.729461Z",
     "shell.execute_reply.started": "2022-05-09T11:18:30.719551Z"
    }
   },
   "outputs": [
    {
     "data": {
      "text/plain": [
       "location\n",
       "United States     994.7\n",
       "Brazil            663.9\n",
       "India             523.9\n",
       "Russia            368.7\n",
       "Mexico            324.3\n",
       "Peru              212.9\n",
       "United Kingdom    175.5\n",
       "Italy             163.9\n",
       "Indonesia         156.3\n",
       "France            146.3\n",
       "Iran              141.1\n",
       "Colombia          139.8\n",
       "Germany           135.9\n",
       "Argentina         128.7\n",
       "Poland            116.1\n",
       "Name: total_deaths, dtype: float64"
      ]
     },
     "execution_count": 51,
     "metadata": {},
     "output_type": "execute_result"
    }
   ],
   "source": [
    "death_cases = covid_total_val['total_deaths'].sort_values(ascending = False)\n",
    "death_cases = death_cases[:15]\n",
    "\n",
    "death_cases = death_cases.apply(lambda x: round(x/1000, 1))\n",
    "death_cases"
   ]
  },
  {
   "cell_type": "code",
   "execution_count": 52,
   "metadata": {
    "execution": {
     "iopub.execute_input": "2022-05-09T11:18:33.440053Z",
     "iopub.status.busy": "2022-05-09T11:18:33.439742Z",
     "iopub.status.idle": "2022-05-09T11:18:33.753528Z",
     "shell.execute_reply": "2022-05-09T11:18:33.752419Z",
     "shell.execute_reply.started": "2022-05-09T11:18:33.440018Z"
    }
   },
   "outputs": [
    {
     "data": {
      "image/png": "[encoded data removed]",
      "text/plain": [
       "<Figure size 1188x432 with 1 Axes>"
      ]
     },
     "metadata": {
      "needs_background": "light"
     },
     "output_type": "display_data"
    }
   ],
   "source": [
    "death_color = ['#ebd4d3' for _ in range(len(death_cases))]\n",
    "\n",
    "death_color[0] = '#b20710'\n",
    "death_color[1] = '#b20710'\n",
    "death_color[2] = '#b20710'\n",
    "death_color[3] = '#b20710'\n",
    "death_color[4] = '#b20710'\n",
    "\n",
    "fig, ax = plt.subplots(1, 1, figsize = (16.5, 6))\n",
    "ax.bar_label(ax.barh(death_cases.index, death_cases.values, label=death_cases.values, color = death_color))\n",
    "ax.invert_yaxis()\n",
    "\n",
    "for i in ['top', 'left', 'right']:\n",
    "    ax.spines[i].set_visible(False)\n",
    "\n",
    "fig.text(0.23, 0.90,'Highest Death due to Covid cases - Countrywise (in \\'000) - as on 03/05/2022', \n",
    "         fontdict={'fontsize':15})\n",
    "\n",
    "ax.grid(axis = 'x', linestyle='-', alpha=0.5)\n",
    "\n",
    "plt.show()"
   ]
  },
  {
   "cell_type": "markdown",
   "metadata": {},
   "source": [
    "# Top Countries with Vaccination Drives"
   ]
  },
  {
   "cell_type": "code",
   "execution_count": 53,
   "metadata": {
    "execution": {
     "iopub.execute_input": "2022-05-09T11:18:37.055221Z",
     "iopub.status.busy": "2022-05-09T11:18:37.054926Z",
     "iopub.status.idle": "2022-05-09T11:18:37.065931Z",
     "shell.execute_reply": "2022-05-09T11:18:37.065041Z",
     "shell.execute_reply.started": "2022-05-09T11:18:37.055186Z"
    }
   },
   "outputs": [
    {
     "data": {
      "text/plain": [
       "location\n",
       "China          3347.6\n",
       "India          1893.3\n",
       "Brazil          430.4\n",
       "Indonesia       401.3\n",
       "Russia          166.5\n",
       "Iran            149.0\n",
       "Turkey          147.5\n",
       "Italy           136.9\n",
       "Thailand        133.4\n",
       "South Korea     123.7\n",
       "Argentina        98.9\n",
       "Malaysia         70.3\n",
       "Australia        57.3\n",
       "Chile            53.0\n",
       "Taiwan           52.7\n",
       "Name: total_vaccinations, dtype: float64"
      ]
     },
     "execution_count": 53,
     "metadata": {},
     "output_type": "execute_result"
    }
   ],
   "source": [
    "total_vaccine = covid_total_val['total_vaccinations'].sort_values(ascending = False)\n",
    "total_vaccine = total_vaccine[:15]\n",
    "\n",
    "total_vaccine = total_vaccine.apply(lambda x: round(x/1000000, 1))\n",
    "total_vaccine"
   ]
  },
  {
   "cell_type": "code",
   "execution_count": 54,
   "metadata": {
    "execution": {
     "iopub.execute_input": "2022-05-09T11:18:37.459656Z",
     "iopub.status.busy": "2022-05-09T11:18:37.459367Z",
     "iopub.status.idle": "2022-05-09T11:18:37.779274Z",
     "shell.execute_reply": "2022-05-09T11:18:37.778455Z",
     "shell.execute_reply.started": "2022-05-09T11:18:37.459627Z"
    }
   },
   "outputs": [
    {
     "data": {
      "image/png": "[encoded data removed]",
      "text/plain": [
       "<Figure size 1080x432 with 1 Axes>"
      ]
     },
     "metadata": {
      "needs_background": "light"
     },
     "output_type": "display_data"
    }
   ],
   "source": [
    "vaccine_color = ['#d3e8d3' for _ in range(len(total_vaccine))]\n",
    "# 4ea24e bddcbd\n",
    "vaccine_color[0] = '#389738'\n",
    "vaccine_color[1] = '#389738'\n",
    "vaccine_color[2] = '#389738'\n",
    "vaccine_color[3] = '#389738'\n",
    "vaccine_color[4] = '#389738'\n",
    "\n",
    "fig, ax = plt.subplots(1, 1, figsize = (15, 6))\n",
    "ax.bar_label(ax.barh(total_vaccine.index, total_vaccine.values, label=total_vaccine.values, color = vaccine_color))\n",
    "ax.invert_yaxis()\n",
    "\n",
    "for i in ['top', 'left', 'right']:\n",
    "    ax.spines[i].set_visible(False)\n",
    "\n",
    "fig.text(0.23, 0.90,'No. of vaccination provided - Countrywise (in Millions) - as on 03/05/2022', \n",
    "         fontdict={'fontsize':15})\n",
    "\n",
    "ax.grid(axis = 'x', linestyle='-', alpha=0.5)\n",
    "\n",
    "plt.show()"
   ]
  },
  {
   "cell_type": "markdown",
   "metadata": {},
   "source": [
    "# Top Countries - Fully Vaccinated population"
   ]
  },
  {
   "cell_type": "code",
   "execution_count": 55,
   "metadata": {
    "execution": {
     "iopub.execute_input": "2022-05-09T11:18:41.930508Z",
     "iopub.status.busy": "2022-05-09T11:18:41.929769Z",
     "iopub.status.idle": "2022-05-09T11:18:41.940573Z",
     "shell.execute_reply": "2022-05-09T11:18:41.939659Z",
     "shell.execute_reply.started": "2022-05-09T11:18:41.930467Z"
    }
   },
   "outputs": [
    {
     "data": {
      "text/plain": [
       "location\n",
       "India           862.0\n",
       "Indonesia       165.4\n",
       "Brazil          164.2\n",
       "Russia           73.6\n",
       "Iran             57.6\n",
       "Turkey           53.0\n",
       "Thailand         51.3\n",
       "Italy            47.9\n",
       "South Korea      44.6\n",
       "Argentina        37.2\n",
       "Malaysia         26.7\n",
       "Australia        21.5\n",
       "Nepal            19.6\n",
       "Taiwan           18.7\n",
       "South Africa     18.3\n",
       "Name: people_fully_vaccinated, dtype: float64"
      ]
     },
     "execution_count": 55,
     "metadata": {},
     "output_type": "execute_result"
    }
   ],
   "source": [
    "people_full_vaccine = covid_total_val['people_fully_vaccinated'].sort_values(ascending = False)\n",
    "people_full_vaccine = people_full_vaccine[:15]\n",
    "\n",
    "people_full_vaccine = people_full_vaccine.apply(lambda x: round(x/1000000, 1))\n",
    "people_full_vaccine"
   ]
  },
  {
   "cell_type": "code",
   "execution_count": 56,
   "metadata": {
    "execution": {
     "iopub.execute_input": "2022-05-09T11:18:44.460005Z",
     "iopub.status.busy": "2022-05-09T11:18:44.459717Z",
     "iopub.status.idle": "2022-05-09T11:18:44.784178Z",
     "shell.execute_reply": "2022-05-09T11:18:44.783342Z",
     "shell.execute_reply.started": "2022-05-09T11:18:44.459974Z"
    }
   },
   "outputs": [
    {
     "data": {
      "image/png": "[encoded data removed]",
      "text/plain": [
       "<Figure size 1188x432 with 1 Axes>"
      ]
     },
     "metadata": {
      "needs_background": "light"
     },
     "output_type": "display_data"
    }
   ],
   "source": [
    "people_color = ['#d3e8d3' for _ in range(len(people_full_vaccine))]\n",
    "# 4ea24e bddcbd\n",
    "people_color[0] = '#389738'\n",
    "people_color[1] = '#389738'\n",
    "people_color[2] = '#389738'\n",
    "people_color[3] = '#389738'\n",
    "people_color[4] = '#389738'\n",
    "\n",
    "fig, ax = plt.subplots(1, 1, figsize = (16.5, 6))\n",
    "ax.bar_label(ax.barh(people_full_vaccine.index, people_full_vaccine.values, label=people_full_vaccine.values, \n",
    "                     color = people_color))\n",
    "ax.invert_yaxis()\n",
    "\n",
    "for i in ['top', 'left', 'right']:\n",
    "    ax.spines[i].set_visible(False)\n",
    "\n",
    "fig.text(0.23, 0.90,'Count of fully vaccinated people - Countrywise (in Millions) - as on 03/05/2022', \n",
    "         fontdict={'fontsize':15})\n",
    "\n",
    "fig.text(0.6, 0.25, \n",
    "'''China Name is not available in the chart, \n",
    "as for the month of May-2022 details are blank. \n",
    "The last available number is as on 28-Apr-2022 \n",
    "which is 125 Million, ranking at 5th position.'''\n",
    "\n",
    ", fontsize=13, fontweight='light', color = '#389738')\n",
    "\n",
    "# ax.grid(axis = 'x', linestyle='-', alpha=0.5)\n",
    "\n",
    "plt.show()"
   ]
  },
  {
   "cell_type": "markdown",
   "metadata": {},
   "source": [
    "From the above data charts this can be concluded, that India and USA were the worst hit countries of Covid and has seen the maximum number of casualties.\n",
    "\n",
    "However, these are also the countries who have derived the vaccination drives succcessfully. \n",
    "\n",
    "Although this is described in absolute numbers and because of population count results are slightly skewed, accurate results can be drawn by adding population count and finding the %age of reported covid cases and vaccinated people on the Population Count."
   ]
  },
  {
   "cell_type": "markdown",
   "metadata": {},
   "source": [
    "# Monthly Covid Trend"
   ]
  },
  {
   "cell_type": "code",
   "execution_count": 57,
   "metadata": {
    "execution": {
     "iopub.execute_input": "2022-05-09T11:18:49.892665Z",
     "iopub.status.busy": "2022-05-09T11:18:49.892386Z",
     "iopub.status.idle": "2022-05-09T11:18:49.949055Z",
     "shell.execute_reply": "2022-05-09T11:18:49.948244Z",
     "shell.execute_reply.started": "2022-05-09T11:18:49.892639Z"
    }
   },
   "outputs": [
    {
     "data": {
      "text/html": [
       "<div>\n",
       "<style scoped>\n",
       "    .dataframe tbody tr th:only-of-type {\n",
       "        vertical-align: middle;\n",
       "    }\n",
       "\n",
       "    .dataframe tbody tr th {\n",
       "        vertical-align: top;\n",
       "    }\n",
       "\n",
       "    .dataframe thead th {\n",
       "        text-align: right;\n",
       "    }\n",
       "</style>\n",
       "<table border=\"1\" class=\"dataframe\">\n",
       "  <thead>\n",
       "    <tr style=\"text-align: right;\">\n",
       "      <th></th>\n",
       "      <th>iso_code</th>\n",
       "      <th>continent</th>\n",
       "      <th>location</th>\n",
       "      <th>date</th>\n",
       "      <th>total_cases</th>\n",
       "      <th>new_cases</th>\n",
       "      <th>total_deaths</th>\n",
       "      <th>new_deaths</th>\n",
       "      <th>total_vaccinations</th>\n",
       "      <th>people_vaccinated</th>\n",
       "      <th>people_fully_vaccinated</th>\n",
       "      <th>total_boosters</th>\n",
       "      <th>new_vaccinations</th>\n",
       "      <th>date_converted</th>\n",
       "      <th>Month_Year_new</th>\n",
       "    </tr>\n",
       "  </thead>\n",
       "  <tbody>\n",
       "    <tr>\n",
       "      <th>0</th>\n",
       "      <td>AFG</td>\n",
       "      <td>Asia</td>\n",
       "      <td>Afghanistan</td>\n",
       "      <td>24/02/20</td>\n",
       "      <td>5.0</td>\n",
       "      <td>5.0</td>\n",
       "      <td>NaN</td>\n",
       "      <td>NaN</td>\n",
       "      <td>NaN</td>\n",
       "      <td>NaN</td>\n",
       "      <td>NaN</td>\n",
       "      <td>NaN</td>\n",
       "      <td>NaN</td>\n",
       "      <td>2020-02-24</td>\n",
       "      <td>2020-02</td>\n",
       "    </tr>\n",
       "    <tr>\n",
       "      <th>1</th>\n",
       "      <td>AFG</td>\n",
       "      <td>Asia</td>\n",
       "      <td>Afghanistan</td>\n",
       "      <td>25/02/20</td>\n",
       "      <td>5.0</td>\n",
       "      <td>0.0</td>\n",
       "      <td>NaN</td>\n",
       "      <td>NaN</td>\n",
       "      <td>NaN</td>\n",
       "      <td>NaN</td>\n",
       "      <td>NaN</td>\n",
       "      <td>NaN</td>\n",
       "      <td>NaN</td>\n",
       "      <td>2020-02-25</td>\n",
       "      <td>2020-02</td>\n",
       "    </tr>\n",
       "    <tr>\n",
       "      <th>2</th>\n",
       "      <td>AFG</td>\n",
       "      <td>Asia</td>\n",
       "      <td>Afghanistan</td>\n",
       "      <td>26/02/20</td>\n",
       "      <td>5.0</td>\n",
       "      <td>0.0</td>\n",
       "      <td>NaN</td>\n",
       "      <td>NaN</td>\n",
       "      <td>NaN</td>\n",
       "      <td>NaN</td>\n",
       "      <td>NaN</td>\n",
       "      <td>NaN</td>\n",
       "      <td>NaN</td>\n",
       "      <td>2020-02-26</td>\n",
       "      <td>2020-02</td>\n",
       "    </tr>\n",
       "    <tr>\n",
       "      <th>3</th>\n",
       "      <td>AFG</td>\n",
       "      <td>Asia</td>\n",
       "      <td>Afghanistan</td>\n",
       "      <td>27/02/20</td>\n",
       "      <td>5.0</td>\n",
       "      <td>0.0</td>\n",
       "      <td>NaN</td>\n",
       "      <td>NaN</td>\n",
       "      <td>NaN</td>\n",
       "      <td>NaN</td>\n",
       "      <td>NaN</td>\n",
       "      <td>NaN</td>\n",
       "      <td>NaN</td>\n",
       "      <td>2020-02-27</td>\n",
       "      <td>2020-02</td>\n",
       "    </tr>\n",
       "    <tr>\n",
       "      <th>4</th>\n",
       "      <td>AFG</td>\n",
       "      <td>Asia</td>\n",
       "      <td>Afghanistan</td>\n",
       "      <td>28/02/20</td>\n",
       "      <td>5.0</td>\n",
       "      <td>0.0</td>\n",
       "      <td>NaN</td>\n",
       "      <td>NaN</td>\n",
       "      <td>NaN</td>\n",
       "      <td>NaN</td>\n",
       "      <td>NaN</td>\n",
       "      <td>NaN</td>\n",
       "      <td>NaN</td>\n",
       "      <td>2020-02-28</td>\n",
       "      <td>2020-02</td>\n",
       "    </tr>\n",
       "  </tbody>\n",
       "</table>\n",
       "</div>"
      ],
      "text/plain": [
       "  iso_code continent     location      date  total_cases  new_cases  \\\n",
       "0      AFG      Asia  Afghanistan  24/02/20          5.0        5.0   \n",
       "1      AFG      Asia  Afghanistan  25/02/20          5.0        0.0   \n",
       "2      AFG      Asia  Afghanistan  26/02/20          5.0        0.0   \n",
       "3      AFG      Asia  Afghanistan  27/02/20          5.0        0.0   \n",
       "4      AFG      Asia  Afghanistan  28/02/20          5.0        0.0   \n",
       "\n",
       "   total_deaths  new_deaths  total_vaccinations  people_vaccinated  \\\n",
       "0           NaN         NaN                 NaN                NaN   \n",
       "1           NaN         NaN                 NaN                NaN   \n",
       "2           NaN         NaN                 NaN                NaN   \n",
       "3           NaN         NaN                 NaN                NaN   \n",
       "4           NaN         NaN                 NaN                NaN   \n",
       "\n",
       "   people_fully_vaccinated  total_boosters  new_vaccinations date_converted  \\\n",
       "0                      NaN             NaN               NaN     2020-02-24   \n",
       "1                      NaN             NaN               NaN     2020-02-25   \n",
       "2                      NaN             NaN               NaN     2020-02-26   \n",
       "3                      NaN             NaN               NaN     2020-02-27   \n",
       "4                      NaN             NaN               NaN     2020-02-28   \n",
       "\n",
       "  Month_Year_new  \n",
       "0        2020-02  \n",
       "1        2020-02  \n",
       "2        2020-02  \n",
       "3        2020-02  \n",
       "4        2020-02  "
      ]
     },
     "execution_count": 57,
     "metadata": {},
     "output_type": "execute_result"
    }
   ],
   "source": [
    "covid['Month_Year_new'] = pd.to_datetime(covid['date_converted'], format='%b-%y').dt.to_period('M')\n",
    "covid.head()"
   ]
  },
  {
   "cell_type": "code",
   "execution_count": 58,
   "metadata": {
    "execution": {
     "iopub.execute_input": "2022-05-09T11:18:51.949707Z",
     "iopub.status.busy": "2022-05-09T11:18:51.949245Z",
     "iopub.status.idle": "2022-05-09T11:18:51.957087Z",
     "shell.execute_reply": "2022-05-09T11:18:51.956463Z",
     "shell.execute_reply.started": "2022-05-09T11:18:51.949673Z"
    }
   },
   "outputs": [
    {
     "data": {
      "text/plain": [
       "iso_code                           object\n",
       "continent                          object\n",
       "location                           object\n",
       "date                               object\n",
       "total_cases                       float64\n",
       "new_cases                         float64\n",
       "total_deaths                      float64\n",
       "new_deaths                        float64\n",
       "total_vaccinations                float64\n",
       "people_vaccinated                 float64\n",
       "people_fully_vaccinated           float64\n",
       "total_boosters                    float64\n",
       "new_vaccinations                  float64\n",
       "date_converted             datetime64[ns]\n",
       "Month_Year_new                  period[M]\n",
       "dtype: object"
      ]
     },
     "execution_count": 58,
     "metadata": {},
     "output_type": "execute_result"
    }
   ],
   "source": [
    "covid.dtypes"
   ]
  },
  {
   "cell_type": "code",
   "execution_count": 59,
   "metadata": {
    "execution": {
     "iopub.execute_input": "2022-05-09T11:18:52.558412Z",
     "iopub.status.busy": "2022-05-09T11:18:52.557726Z",
     "iopub.status.idle": "2022-05-09T11:18:52.607890Z",
     "shell.execute_reply": "2022-05-09T11:18:52.606966Z",
     "shell.execute_reply.started": "2022-05-09T11:18:52.558354Z"
    }
   },
   "outputs": [
    {
     "data": {
      "text/html": [
       "<div>\n",
       "<style scoped>\n",
       "    .dataframe tbody tr th:only-of-type {\n",
       "        vertical-align: middle;\n",
       "    }\n",
       "\n",
       "    .dataframe tbody tr th {\n",
       "        vertical-align: top;\n",
       "    }\n",
       "\n",
       "    .dataframe thead th {\n",
       "        text-align: right;\n",
       "    }\n",
       "</style>\n",
       "<table border=\"1\" class=\"dataframe\">\n",
       "  <thead>\n",
       "    <tr style=\"text-align: right;\">\n",
       "      <th></th>\n",
       "      <th>iso_code</th>\n",
       "      <th>continent</th>\n",
       "      <th>date</th>\n",
       "      <th>total_cases</th>\n",
       "      <th>new_cases</th>\n",
       "      <th>total_deaths</th>\n",
       "      <th>new_deaths</th>\n",
       "      <th>total_vaccinations</th>\n",
       "      <th>people_vaccinated</th>\n",
       "      <th>people_fully_vaccinated</th>\n",
       "      <th>total_boosters</th>\n",
       "      <th>new_vaccinations</th>\n",
       "      <th>date_converted</th>\n",
       "      <th>Month_Year_new</th>\n",
       "    </tr>\n",
       "    <tr>\n",
       "      <th>location</th>\n",
       "      <th></th>\n",
       "      <th></th>\n",
       "      <th></th>\n",
       "      <th></th>\n",
       "      <th></th>\n",
       "      <th></th>\n",
       "      <th></th>\n",
       "      <th></th>\n",
       "      <th></th>\n",
       "      <th></th>\n",
       "      <th></th>\n",
       "      <th></th>\n",
       "      <th></th>\n",
       "      <th></th>\n",
       "    </tr>\n",
       "  </thead>\n",
       "  <tbody>\n",
       "    <tr>\n",
       "      <th>Afghanistan</th>\n",
       "      <td>AFG</td>\n",
       "      <td>Asia</td>\n",
       "      <td>24/02/20</td>\n",
       "      <td>5.0</td>\n",
       "      <td>5.0</td>\n",
       "      <td>NaN</td>\n",
       "      <td>NaN</td>\n",
       "      <td>NaN</td>\n",
       "      <td>NaN</td>\n",
       "      <td>NaN</td>\n",
       "      <td>NaN</td>\n",
       "      <td>NaN</td>\n",
       "      <td>2020-02-24</td>\n",
       "      <td>2020-02</td>\n",
       "    </tr>\n",
       "    <tr>\n",
       "      <th>Afghanistan</th>\n",
       "      <td>AFG</td>\n",
       "      <td>Asia</td>\n",
       "      <td>25/02/20</td>\n",
       "      <td>5.0</td>\n",
       "      <td>0.0</td>\n",
       "      <td>NaN</td>\n",
       "      <td>NaN</td>\n",
       "      <td>NaN</td>\n",
       "      <td>NaN</td>\n",
       "      <td>NaN</td>\n",
       "      <td>NaN</td>\n",
       "      <td>NaN</td>\n",
       "      <td>2020-02-25</td>\n",
       "      <td>2020-02</td>\n",
       "    </tr>\n",
       "    <tr>\n",
       "      <th>Afghanistan</th>\n",
       "      <td>AFG</td>\n",
       "      <td>Asia</td>\n",
       "      <td>26/02/20</td>\n",
       "      <td>5.0</td>\n",
       "      <td>0.0</td>\n",
       "      <td>NaN</td>\n",
       "      <td>NaN</td>\n",
       "      <td>NaN</td>\n",
       "      <td>NaN</td>\n",
       "      <td>NaN</td>\n",
       "      <td>NaN</td>\n",
       "      <td>NaN</td>\n",
       "      <td>2020-02-26</td>\n",
       "      <td>2020-02</td>\n",
       "    </tr>\n",
       "    <tr>\n",
       "      <th>Afghanistan</th>\n",
       "      <td>AFG</td>\n",
       "      <td>Asia</td>\n",
       "      <td>27/02/20</td>\n",
       "      <td>5.0</td>\n",
       "      <td>0.0</td>\n",
       "      <td>NaN</td>\n",
       "      <td>NaN</td>\n",
       "      <td>NaN</td>\n",
       "      <td>NaN</td>\n",
       "      <td>NaN</td>\n",
       "      <td>NaN</td>\n",
       "      <td>NaN</td>\n",
       "      <td>2020-02-27</td>\n",
       "      <td>2020-02</td>\n",
       "    </tr>\n",
       "    <tr>\n",
       "      <th>Afghanistan</th>\n",
       "      <td>AFG</td>\n",
       "      <td>Asia</td>\n",
       "      <td>28/02/20</td>\n",
       "      <td>5.0</td>\n",
       "      <td>0.0</td>\n",
       "      <td>NaN</td>\n",
       "      <td>NaN</td>\n",
       "      <td>NaN</td>\n",
       "      <td>NaN</td>\n",
       "      <td>NaN</td>\n",
       "      <td>NaN</td>\n",
       "      <td>NaN</td>\n",
       "      <td>2020-02-28</td>\n",
       "      <td>2020-02</td>\n",
       "    </tr>\n",
       "    <tr>\n",
       "      <th>...</th>\n",
       "      <td>...</td>\n",
       "      <td>...</td>\n",
       "      <td>...</td>\n",
       "      <td>...</td>\n",
       "      <td>...</td>\n",
       "      <td>...</td>\n",
       "      <td>...</td>\n",
       "      <td>...</td>\n",
       "      <td>...</td>\n",
       "      <td>...</td>\n",
       "      <td>...</td>\n",
       "      <td>...</td>\n",
       "      <td>...</td>\n",
       "      <td>...</td>\n",
       "    </tr>\n",
       "    <tr>\n",
       "      <th>Zimbabwe</th>\n",
       "      <td>ZWE</td>\n",
       "      <td>Africa</td>\n",
       "      <td>29/04/22</td>\n",
       "      <td>247842.0</td>\n",
       "      <td>58.0</td>\n",
       "      <td>5469.0</td>\n",
       "      <td>0.0</td>\n",
       "      <td>10304899.0</td>\n",
       "      <td>5864940.0</td>\n",
       "      <td>3667392.0</td>\n",
       "      <td>772567.0</td>\n",
       "      <td>19472.0</td>\n",
       "      <td>2022-04-29</td>\n",
       "      <td>2022-04</td>\n",
       "    </tr>\n",
       "    <tr>\n",
       "      <th>Zimbabwe</th>\n",
       "      <td>ZWE</td>\n",
       "      <td>Africa</td>\n",
       "      <td>30/04/22</td>\n",
       "      <td>247875.0</td>\n",
       "      <td>33.0</td>\n",
       "      <td>5469.0</td>\n",
       "      <td>0.0</td>\n",
       "      <td>10313861.0</td>\n",
       "      <td>5866832.0</td>\n",
       "      <td>3672516.0</td>\n",
       "      <td>774513.0</td>\n",
       "      <td>8962.0</td>\n",
       "      <td>2022-04-30</td>\n",
       "      <td>2022-04</td>\n",
       "    </tr>\n",
       "    <tr>\n",
       "      <th>Zimbabwe</th>\n",
       "      <td>ZWE</td>\n",
       "      <td>Africa</td>\n",
       "      <td>01/05/22</td>\n",
       "      <td>247911.0</td>\n",
       "      <td>36.0</td>\n",
       "      <td>5469.0</td>\n",
       "      <td>0.0</td>\n",
       "      <td>10320810.0</td>\n",
       "      <td>5867908.0</td>\n",
       "      <td>3675272.0</td>\n",
       "      <td>777630.0</td>\n",
       "      <td>6949.0</td>\n",
       "      <td>2022-05-01</td>\n",
       "      <td>2022-05</td>\n",
       "    </tr>\n",
       "    <tr>\n",
       "      <th>Zimbabwe</th>\n",
       "      <td>ZWE</td>\n",
       "      <td>Africa</td>\n",
       "      <td>02/05/22</td>\n",
       "      <td>247935.0</td>\n",
       "      <td>24.0</td>\n",
       "      <td>5470.0</td>\n",
       "      <td>1.0</td>\n",
       "      <td>10329879.0</td>\n",
       "      <td>5870126.0</td>\n",
       "      <td>3679006.0</td>\n",
       "      <td>780747.0</td>\n",
       "      <td>9069.0</td>\n",
       "      <td>2022-05-02</td>\n",
       "      <td>2022-05</td>\n",
       "    </tr>\n",
       "    <tr>\n",
       "      <th>Zimbabwe</th>\n",
       "      <td>ZWE</td>\n",
       "      <td>Africa</td>\n",
       "      <td>03/05/22</td>\n",
       "      <td>247990.0</td>\n",
       "      <td>55.0</td>\n",
       "      <td>5470.0</td>\n",
       "      <td>0.0</td>\n",
       "      <td>NaN</td>\n",
       "      <td>NaN</td>\n",
       "      <td>NaN</td>\n",
       "      <td>NaN</td>\n",
       "      <td>NaN</td>\n",
       "      <td>2022-05-03</td>\n",
       "      <td>2022-05</td>\n",
       "    </tr>\n",
       "  </tbody>\n",
       "</table>\n",
       "<p>165248 rows × 14 columns</p>\n",
       "</div>"
      ],
      "text/plain": [
       "            iso_code continent      date  total_cases  new_cases  \\\n",
       "location                                                           \n",
       "Afghanistan      AFG      Asia  24/02/20          5.0        5.0   \n",
       "Afghanistan      AFG      Asia  25/02/20          5.0        0.0   \n",
       "Afghanistan      AFG      Asia  26/02/20          5.0        0.0   \n",
       "Afghanistan      AFG      Asia  27/02/20          5.0        0.0   \n",
       "Afghanistan      AFG      Asia  28/02/20          5.0        0.0   \n",
       "...              ...       ...       ...          ...        ...   \n",
       "Zimbabwe         ZWE    Africa  29/04/22     247842.0       58.0   \n",
       "Zimbabwe         ZWE    Africa  30/04/22     247875.0       33.0   \n",
       "Zimbabwe         ZWE    Africa  01/05/22     247911.0       36.0   \n",
       "Zimbabwe         ZWE    Africa  02/05/22     247935.0       24.0   \n",
       "Zimbabwe         ZWE    Africa  03/05/22     247990.0       55.0   \n",
       "\n",
       "             total_deaths  new_deaths  total_vaccinations  people_vaccinated  \\\n",
       "location                                                                       \n",
       "Afghanistan           NaN         NaN                 NaN                NaN   \n",
       "Afghanistan           NaN         NaN                 NaN                NaN   \n",
       "Afghanistan           NaN         NaN                 NaN                NaN   \n",
       "Afghanistan           NaN         NaN                 NaN                NaN   \n",
       "Afghanistan           NaN         NaN                 NaN                NaN   \n",
       "...                   ...         ...                 ...                ...   \n",
       "Zimbabwe           5469.0         0.0          10304899.0          5864940.0   \n",
       "Zimbabwe           5469.0         0.0          10313861.0          5866832.0   \n",
       "Zimbabwe           5469.0         0.0          10320810.0          5867908.0   \n",
       "Zimbabwe           5470.0         1.0          10329879.0          5870126.0   \n",
       "Zimbabwe           5470.0         0.0                 NaN                NaN   \n",
       "\n",
       "             people_fully_vaccinated  total_boosters  new_vaccinations  \\\n",
       "location                                                                 \n",
       "Afghanistan                      NaN             NaN               NaN   \n",
       "Afghanistan                      NaN             NaN               NaN   \n",
       "Afghanistan                      NaN             NaN               NaN   \n",
       "Afghanistan                      NaN             NaN               NaN   \n",
       "Afghanistan                      NaN             NaN               NaN   \n",
       "...                              ...             ...               ...   \n",
       "Zimbabwe                   3667392.0        772567.0           19472.0   \n",
       "Zimbabwe                   3672516.0        774513.0            8962.0   \n",
       "Zimbabwe                   3675272.0        777630.0            6949.0   \n",
       "Zimbabwe                   3679006.0        780747.0            9069.0   \n",
       "Zimbabwe                         NaN             NaN               NaN   \n",
       "\n",
       "            date_converted Month_Year_new  \n",
       "location                                   \n",
       "Afghanistan     2020-02-24        2020-02  \n",
       "Afghanistan     2020-02-25        2020-02  \n",
       "Afghanistan     2020-02-26        2020-02  \n",
       "Afghanistan     2020-02-27        2020-02  \n",
       "Afghanistan     2020-02-28        2020-02  \n",
       "...                    ...            ...  \n",
       "Zimbabwe        2022-04-29        2022-04  \n",
       "Zimbabwe        2022-04-30        2022-04  \n",
       "Zimbabwe        2022-05-01        2022-05  \n",
       "Zimbabwe        2022-05-02        2022-05  \n",
       "Zimbabwe        2022-05-03        2022-05  \n",
       "\n",
       "[165248 rows x 14 columns]"
      ]
     },
     "execution_count": 59,
     "metadata": {},
     "output_type": "execute_result"
    }
   ],
   "source": [
    "covid_new = covid.copy()\n",
    "covid_new.set_index('location', inplace=True)\n",
    "covid_new"
   ]
  },
  {
   "cell_type": "code",
   "execution_count": 60,
   "metadata": {
    "execution": {
     "iopub.execute_input": "2022-05-09T11:18:54.846393Z",
     "iopub.status.busy": "2022-05-09T11:18:54.846080Z",
     "iopub.status.idle": "2022-05-09T11:18:54.900159Z",
     "shell.execute_reply": "2022-05-09T11:18:54.899357Z",
     "shell.execute_reply.started": "2022-05-09T11:18:54.846359Z"
    }
   },
   "outputs": [
    {
     "data": {
      "text/html": [
       "<div>\n",
       "<style scoped>\n",
       "    .dataframe tbody tr th:only-of-type {\n",
       "        vertical-align: middle;\n",
       "    }\n",
       "\n",
       "    .dataframe tbody tr th {\n",
       "        vertical-align: top;\n",
       "    }\n",
       "\n",
       "    .dataframe thead th {\n",
       "        text-align: right;\n",
       "    }\n",
       "</style>\n",
       "<table border=\"1\" class=\"dataframe\">\n",
       "  <thead>\n",
       "    <tr style=\"text-align: right;\">\n",
       "      <th></th>\n",
       "      <th>new_cases</th>\n",
       "      <th>new_deaths</th>\n",
       "      <th>new_vaccinations</th>\n",
       "    </tr>\n",
       "    <tr>\n",
       "      <th>Month_Year_new</th>\n",
       "      <th></th>\n",
       "      <th></th>\n",
       "      <th></th>\n",
       "    </tr>\n",
       "  </thead>\n",
       "  <tbody>\n",
       "    <tr>\n",
       "      <th>2020-01</th>\n",
       "      <td>0.1</td>\n",
       "      <td>0.0</td>\n",
       "      <td>0.0</td>\n",
       "    </tr>\n",
       "    <tr>\n",
       "      <th>2020-02</th>\n",
       "      <td>0.8</td>\n",
       "      <td>0.0</td>\n",
       "      <td>0.0</td>\n",
       "    </tr>\n",
       "    <tr>\n",
       "      <th>2020-03</th>\n",
       "      <td>7.8</td>\n",
       "      <td>0.4</td>\n",
       "      <td>0.0</td>\n",
       "    </tr>\n",
       "    <tr>\n",
       "      <th>2020-04</th>\n",
       "      <td>24.4</td>\n",
       "      <td>2.0</td>\n",
       "      <td>0.0</td>\n",
       "    </tr>\n",
       "    <tr>\n",
       "      <th>2020-05</th>\n",
       "      <td>29.1</td>\n",
       "      <td>1.5</td>\n",
       "      <td>0.0</td>\n",
       "    </tr>\n",
       "    <tr>\n",
       "      <th>2020-06</th>\n",
       "      <td>43.1</td>\n",
       "      <td>1.4</td>\n",
       "      <td>0.0</td>\n",
       "    </tr>\n",
       "    <tr>\n",
       "      <th>2020-07</th>\n",
       "      <td>71.1</td>\n",
       "      <td>1.7</td>\n",
       "      <td>0.0</td>\n",
       "    </tr>\n",
       "    <tr>\n",
       "      <th>2020-08</th>\n",
       "      <td>79.4</td>\n",
       "      <td>1.8</td>\n",
       "      <td>0.0</td>\n",
       "    </tr>\n",
       "    <tr>\n",
       "      <th>2020-09</th>\n",
       "      <td>85.0</td>\n",
       "      <td>1.6</td>\n",
       "      <td>0.0</td>\n",
       "    </tr>\n",
       "    <tr>\n",
       "      <th>2020-10</th>\n",
       "      <td>121.1</td>\n",
       "      <td>1.8</td>\n",
       "      <td>0.0</td>\n",
       "    </tr>\n",
       "    <tr>\n",
       "      <th>2020-11</th>\n",
       "      <td>172.7</td>\n",
       "      <td>2.8</td>\n",
       "      <td>0.0</td>\n",
       "    </tr>\n",
       "    <tr>\n",
       "      <th>2020-12</th>\n",
       "      <td>195.3</td>\n",
       "      <td>3.5</td>\n",
       "      <td>71.6</td>\n",
       "    </tr>\n",
       "    <tr>\n",
       "      <th>2021-01</th>\n",
       "      <td>195.5</td>\n",
       "      <td>4.2</td>\n",
       "      <td>679.4</td>\n",
       "    </tr>\n",
       "    <tr>\n",
       "      <th>2021-02</th>\n",
       "      <td>112.5</td>\n",
       "      <td>3.1</td>\n",
       "      <td>1235.1</td>\n",
       "    </tr>\n",
       "    <tr>\n",
       "      <th>2021-03</th>\n",
       "      <td>148.3</td>\n",
       "      <td>3.0</td>\n",
       "      <td>3006.2</td>\n",
       "    </tr>\n",
       "    <tr>\n",
       "      <th>2021-04</th>\n",
       "      <td>225.3</td>\n",
       "      <td>3.8</td>\n",
       "      <td>5010.6</td>\n",
       "    </tr>\n",
       "    <tr>\n",
       "      <th>2021-05</th>\n",
       "      <td>197.0</td>\n",
       "      <td>3.8</td>\n",
       "      <td>7425.5</td>\n",
       "    </tr>\n",
       "    <tr>\n",
       "      <th>2021-06</th>\n",
       "      <td>114.8</td>\n",
       "      <td>2.7</td>\n",
       "      <td>10876.6</td>\n",
       "    </tr>\n",
       "    <tr>\n",
       "      <th>2021-07</th>\n",
       "      <td>157.4</td>\n",
       "      <td>2.6</td>\n",
       "      <td>9619.8</td>\n",
       "    </tr>\n",
       "    <tr>\n",
       "      <th>2021-08</th>\n",
       "      <td>198.5</td>\n",
       "      <td>3.0</td>\n",
       "      <td>10132.2</td>\n",
       "    </tr>\n",
       "    <tr>\n",
       "      <th>2021-09</th>\n",
       "      <td>159.2</td>\n",
       "      <td>2.6</td>\n",
       "      <td>7911.8</td>\n",
       "    </tr>\n",
       "    <tr>\n",
       "      <th>2021-10</th>\n",
       "      <td>131.0</td>\n",
       "      <td>2.2</td>\n",
       "      <td>6075.4</td>\n",
       "    </tr>\n",
       "    <tr>\n",
       "      <th>2021-11</th>\n",
       "      <td>156.4</td>\n",
       "      <td>2.2</td>\n",
       "      <td>7774.9</td>\n",
       "    </tr>\n",
       "    <tr>\n",
       "      <th>2021-12</th>\n",
       "      <td>256.0</td>\n",
       "      <td>2.2</td>\n",
       "      <td>9416.1</td>\n",
       "    </tr>\n",
       "    <tr>\n",
       "      <th>2022-01</th>\n",
       "      <td>893.3</td>\n",
       "      <td>2.4</td>\n",
       "      <td>6953.3</td>\n",
       "    </tr>\n",
       "    <tr>\n",
       "      <th>2022-02</th>\n",
       "      <td>581.1</td>\n",
       "      <td>2.8</td>\n",
       "      <td>4763.4</td>\n",
       "    </tr>\n",
       "    <tr>\n",
       "      <th>2022-03</th>\n",
       "      <td>513.9</td>\n",
       "      <td>1.8</td>\n",
       "      <td>3727.0</td>\n",
       "    </tr>\n",
       "    <tr>\n",
       "      <th>2022-04</th>\n",
       "      <td>251.4</td>\n",
       "      <td>0.9</td>\n",
       "      <td>2006.5</td>\n",
       "    </tr>\n",
       "    <tr>\n",
       "      <th>2022-05</th>\n",
       "      <td>15.0</td>\n",
       "      <td>0.1</td>\n",
       "      <td>102.8</td>\n",
       "    </tr>\n",
       "  </tbody>\n",
       "</table>\n",
       "</div>"
      ],
      "text/plain": [
       "                new_cases  new_deaths  new_vaccinations\n",
       "Month_Year_new                                         \n",
       "2020-01               0.1         0.0               0.0\n",
       "2020-02               0.8         0.0               0.0\n",
       "2020-03               7.8         0.4               0.0\n",
       "2020-04              24.4         2.0               0.0\n",
       "2020-05              29.1         1.5               0.0\n",
       "2020-06              43.1         1.4               0.0\n",
       "2020-07              71.1         1.7               0.0\n",
       "2020-08              79.4         1.8               0.0\n",
       "2020-09              85.0         1.6               0.0\n",
       "2020-10             121.1         1.8               0.0\n",
       "2020-11             172.7         2.8               0.0\n",
       "2020-12             195.3         3.5              71.6\n",
       "2021-01             195.5         4.2             679.4\n",
       "2021-02             112.5         3.1            1235.1\n",
       "2021-03             148.3         3.0            3006.2\n",
       "2021-04             225.3         3.8            5010.6\n",
       "2021-05             197.0         3.8            7425.5\n",
       "2021-06             114.8         2.7           10876.6\n",
       "2021-07             157.4         2.6            9619.8\n",
       "2021-08             198.5         3.0           10132.2\n",
       "2021-09             159.2         2.6            7911.8\n",
       "2021-10             131.0         2.2            6075.4\n",
       "2021-11             156.4         2.2            7774.9\n",
       "2021-12             256.0         2.2            9416.1\n",
       "2022-01             893.3         2.4            6953.3\n",
       "2022-02             581.1         2.8            4763.4\n",
       "2022-03             513.9         1.8            3727.0\n",
       "2022-04             251.4         0.9            2006.5\n",
       "2022-05              15.0         0.1             102.8"
      ]
     },
     "execution_count": 60,
     "metadata": {},
     "output_type": "execute_result"
    }
   ],
   "source": [
    "# Below 3 columns can be used to analyse monthly covid trend \n",
    "daily_trend = covid_new.pivot_table(values = ['new_cases', 'new_deaths', 'new_vaccinations'], \n",
    "                  index = 'Month_Year_new', aggfunc='sum')\n",
    "\n",
    "\n",
    "daily_trend = daily_trend.apply(lambda x: round(x/100000, 1))\n",
    "daily_trend"
   ]
  },
  {
   "cell_type": "code",
   "execution_count": 61,
   "metadata": {
    "execution": {
     "iopub.execute_input": "2022-05-09T11:18:55.098238Z",
     "iopub.status.busy": "2022-05-09T11:18:55.097971Z",
     "iopub.status.idle": "2022-05-09T11:18:55.893075Z",
     "shell.execute_reply": "2022-05-09T11:18:55.892370Z",
     "shell.execute_reply.started": "2022-05-09T11:18:55.098209Z"
    }
   },
   "outputs": [
    {
     "data": {
      "image/png": "[encoded data removed]",
      "text/plain": [
       "<Figure size 1224x864 with 3 Axes>"
      ]
     },
     "metadata": {
      "needs_background": "light"
     },
     "output_type": "display_data"
    }
   ],
   "source": [
    "daily_trend.plot(subplots=True, figsize=(17, 12), kind = 'line', marker='o', title = 'Monthly Trend (in lakhs)')\n",
    "\n",
    "# labeling the axes\n",
    "plt.xlabel('Months')\n",
    "\n",
    "\n",
    "# rotating the tick values of x-axis\n",
    "\n",
    "plt.show()"
   ]
  },
  {
   "cell_type": "markdown",
   "metadata": {},
   "source": [
    "There is spike noted for new covid cases in Jan 2022.\n",
    "\n",
    "This spike is noted in USA which contributes to the 23% of the total covid cases reported world wide."
   ]
  },
  {
   "cell_type": "code",
   "execution_count": null,
   "metadata": {},
   "outputs": [],
   "source": []
  }
 ],
 "metadata": {
  "kernelspec": {
   "display_name": "Python 3 (ipykernel)",
   "language": "python",
   "name": "python3"
  },
  "language_info": {
   "codemirror_mode": {
    "name": "ipython",
    "version": 3
   },
   "file_extension": ".py",
   "mimetype": "text/x-python",
   "name": "python",
   "nbconvert_exporter": "python",
   "pygments_lexer": "ipython3",
   "version": "3.9.7"
  }
 },
 "nbformat": 4,
 "nbformat_minor": 4
}
